{
 "cells": [
  {
   "attachments": {},
   "cell_type": "markdown",
   "metadata": {},
   "source": [
    "##\n",
    " Graph Isomorphism Problem\n",
    " --\n",
    " <hr>"
   ]
  },
  {
   "attachments": {},
   "cell_type": "markdown",
   "metadata": {},
   "source": [
    "<h2>Introduction</h2>\n",
    "<b>Graph Isomorphism</b> is when two graphs are structurally identical. This is determined if the two graphs have a one-to-one correspondence (bijection) between the vertices of the two graphs so that one graph can be mapped to the edges of the other graph so that the adjacency relationships are preserved. <br><br>\n",
    "<b>The Graph Isomorphism Problem</b> is the computational problem of determining whether two finite graphs are isomorphic within polynomial time.<br><br>\n",
    "<b>Polynomial Time</b> refers to the amount of time it takes to complete a computational problem or algorithm based on the size of the problem. When an algorithm runs in Polynomial Time, it means that the time it takes to solve the problem grows as a polynomial function of the input size.\n",
    "<br><br>\n",
    "\n",
    "\n",
    "You may ask yourself why is the graph isomorphism problem important? It has a lot of applications in real life once you wrap your head around it. It can be used in practical applications for fields like chemistry, physics and computer science. It can also be used in cryptography and the design of algorithms. We will talk more on this later.\n",
    "\n",
    "\n",
    "This is a classical algorithmic problem to detemine whether two graphs are actually the same graph in disguise because theres a one-to-one correspondence between their vertices (nodes) and edges."
   ]
  },
  {
   "attachments": {},
   "cell_type": "markdown",
   "metadata": {},
   "source": [
    "<h2>Example of Isomorphism</h2>\n",
    "For example, the two graphs (graph A and graph B) below are known as isomorphic. This is because the vertices (nodes) and edges are exactly the same. The vertices of the graph are where the graph connects together or branches out, in this example, graph A's vertex (node) is where the values 2 and 3 meet at the top of the graph at the value 1. The edges are basically the parts that branch out from the vertices or other values such as the branch between 1 and 2 or 2 and 4.\n",
    "In this example, graph C is also isomorphic with graph A and B. Even though the structure of the graph looks different, the nodes and edges of the graph are still identical.\n",
    "\n",
    "\n",
    "                A           B                        C   \n",
    "                1           2                   5 -- 6 -- 7\n",
    "               / \\         / \\                  |         |\n",
    "              2   3       3   1                 8         9\n",
    "             /     \\     /     \\\n",
    "            4       5   5       4\n"
   ]
  },
  {
   "attachments": {},
   "cell_type": "markdown",
   "metadata": {},
   "source": [
    "<h3> Sets </h3>\n",
    "To understand reading a graph in a mathematical sense, we will talk briefly about sets.\n",
    "One way of describing the structure and layout of a graph is to use sets. A set can show the edges between the nodes within a graph.\n",
    "For example, graph A can be described as follows: <br>\n",
    "I = {a,b,c} ---> This is showing each node.\n",
    "I = ({a,b}, {b,c}) ----> This is showing the edges between each node. <br>\n",
    "\n",
    "        I\n",
    "        b\n",
    "       / \\\n",
    "      a   c"
   ]
  },
  {
   "attachments": {},
   "cell_type": "markdown",
   "metadata": {},
   "source": [
    "Here is an example of two graphs that looks a bit more complicated: <br><br>\n",
    "![Alt text](Pictures/0xoLY.jpg)"
   ]
  },
  {
   "attachments": {},
   "cell_type": "markdown",
   "metadata": {},
   "source": [
    "Can you determine whether these two graphs are isomorphic? Even though the graphical arrangement of the vertices and edges make them look different, they are actually the same graph. To prove this, we need to find a bijective function between the verticies of the two graphs that preserves the edges.\n",
    "\n",
    "Here, the vertices are labelled v1 --> v5. <br>\n",
    "We can show the bijections for each graph below: <br>\n",
    "Graph G: nodes -> (v1,v2,v3,v4,v5) <br>\n",
    "         edges -> [(v1,v2), (v2,v3), (v3,v4), (v4,v5), (v5,v1)]\n",
    "         <br>\n",
    "Graph G': nodes -> (v1',v2',v3',v4',v5') <br>\n",
    "         edges -> [(v1',v2'), (v2',v3'), (v3',v4'), (v4',v5'), (v5',v1')]\n",
    "<br>\n",
    "You can see above that the graphs have the same bijections meaning graph G can be manipulated to become graph G'. <br>\n",
    "This shows that the graphs are <b>Isomorphic</b> <br>\n",
    "I will also prove this using python : <br>"
   ]
  },
  {
   "cell_type": "code",
   "execution_count": null,
   "metadata": {},
   "outputs": [],
   "source": [
    "%pip install networkx\n",
    "%pip install matplotlib"
   ]
  },
  {
   "cell_type": "code",
   "execution_count": 8,
   "metadata": {},
   "outputs": [
    {
     "name": "stdout",
     "output_type": "stream",
     "text": [
      "The pentagon graph and the star graph are isomorphic.\n"
     ]
    }
   ],
   "source": [
    "import networkx as nx;\n",
    "# Create the pentagon graph\n",
    "pentagon = nx.Graph()\n",
    "pentagon.add_nodes_from([1, 2, 3, 4, 5])\n",
    "pentagon.add_edges_from([(1, 2), (2, 3), (3, 4), (4, 5), (5, 1)])\n",
    "#nx.draw(pentagon, with_labels=True, node_color = \"blue\")\n",
    "# Create the star graph\n",
    "star = nx.Graph()\n",
    "star.add_nodes_from([1, 2, 3, 4, 5])\n",
    "star.add_edges_from([(1, 2), (2, 3), (3, 4), (4, 5), (5, 1)])\n",
    "\n",
    "# Check if the two graphs are isomorphic\n",
    "if nx.is_isomorphic(pentagon, star):\n",
    "    print(\"The pentagon graph and the star graph are isomorphic.\")\n",
    "else:\n",
    "    print(\"The pentagon graph and the star graph are not isomorphic.\")"
   ]
  },
  {
   "attachments": {},
   "cell_type": "markdown",
   "metadata": {},
   "source": [
    "You can use the above code to determine if two graphs are isomorphic once you can tell they have number of nodes and edges. However, the problem is that as the graphs begin to get bigger, the algorithm takes a lot more time to run after each addition of a node or new edge. The time complexity is not quite exponential, but it is a lot higher than polynomial time. Since this graph is so small, the time complexity of this algorithm is basically in constant time or O(1) since it can be done in a matter of miliseconds."
   ]
  },
  {
   "attachments": {},
   "cell_type": "markdown",
   "metadata": {},
   "source": [
    "As you can probably tell, the use of specific libraries in Python is very important when dealing with the graph isomorphism problem. In the example above, you can see the networkx library do all the hard work when comparing the two graphs' edges and nodes. Below, you can see that the networkx library can also draw the two graphs as a visual representation for the user."
   ]
  },
  {
   "cell_type": "code",
   "execution_count": 9,
   "metadata": {},
   "outputs": [
    {
     "data": {
      "image/png": "[encoded data removed]",
      "text/plain": [
       "<Figure size 640x480 with 1 Axes>"
      ]
     },
     "metadata": {},
     "output_type": "display_data"
    }
   ],
   "source": [
    "nx.draw(pentagon, with_labels=True, node_color = \"blue\")"
   ]
  },
  {
   "cell_type": "code",
   "execution_count": 10,
   "metadata": {},
   "outputs": [
    {
     "data": {
      "image/png": "[encoded data removed]",
      "text/plain": [
       "<Figure size 640x480 with 1 Axes>"
      ]
     },
     "metadata": {},
     "output_type": "display_data"
    }
   ],
   "source": [
    "nx.draw(star, with_labels=True, node_color = \"blue\")"
   ]
  },
  {
   "attachments": {},
   "cell_type": "markdown",
   "metadata": {},
   "source": [
    "The feature used above makes it very obvious to determine that the two graphs are isomorphic. We can also try to use this for much larger graphs."
   ]
  },
  {
   "attachments": {},
   "cell_type": "markdown",
   "metadata": {},
   "source": [
    "<h2>Bijections and Permutations</h2>\n",
    "Bijections and permutations are very important tools when it comes to the graph isomorphism problem. This is because they provide a way to compare and classify graphs based on their structure. \n",
    "<h3>Bijections</h3>\n",
    "A <b>bijection</b> is a one-to-one and onto function that maps the elements(nodes and edges) of one set to the elements of another set. A bijection establishes a correspondence between the two sets, where each element in the first set is paired with a unique element in the second set. An example of this can be shown within these two sets: <br>\n",
    "{1,2,3}<br>\n",
    "{a,b,c}<br>\n",
    "f(x) = a if x = 1, <br>\n",
    "f(x) = b if x = 2, <br>\n",
    "f(x) = c if x = 3 <br>\n",
    "\n",
    "<h3>Permutations</h3>\n",
    "A <b>permutation</b> is a one-to-one and onto function that maps the elements of the set to itself while preserving the order of the elements. For example, we will use a graph with 3 nodes and 3 edges to show this. We will use the graph A where the nodes are (a,b,c) and the edges are {(a,b), (b,c), (a,c)}. <br>\n",
    "There are 3! = 6 possible permutations of the nodes of the graph. However, not all are valid because we need to preserve the edges. <br>\n",
    "The identity permutation: (a,b,c)<br>\n",
    "Another permutation of this graph would be (c,b,a), where the edges are {(a,c),(b,c), (a,b)}. <br><br>\n",
    "Here is a visual representation of this: <br>\n",
    "<b>Identity permutation: <br>\n",
    "\n",
    "                     a          \n",
    "                    / \\         \n",
    "                   b - c       \n",
    "   <br>\n",
    "First permutation : </b><br>\n",
    "\n",
    "                            c\n",
    "                           / \\\n",
    "                          b - a\n"
   ]
  },
  {
   "attachments": {},
   "cell_type": "markdown",
   "metadata": {},
   "source": [
    "It is not too difficult to show all of the permutations of a graph when there are only three nodes and three edges. However, once the graph gets larger it becomes increasingly difficult to show all of the different permutations. For example, a graph with four nodes has 24 different permutations and a graph with five nodes has 120 different permutations. Rather than writing a figuring out each permutation ourselves individually, it is much easier to use the help of Python and it's libraries to show all of these."
   ]
  },
  {
   "cell_type": "code",
   "execution_count": 3,
   "metadata": {},
   "outputs": [
    {
     "name": "stdout",
     "output_type": "stream",
     "text": [
      "('a', 'b', 'c')\n",
      "('a', 'c', 'b')\n",
      "('b', 'a', 'c')\n",
      "('b', 'c', 'a')\n",
      "('c', 'a', 'b')\n",
      "('c', 'b', 'a')\n"
     ]
    }
   ],
   "source": [
    "import itertools\n",
    "\n",
    "# define the graph as an adjacency list\n",
    "graph = {\n",
    "    'a': ['b', 'c'],\n",
    "    'b': ['a', 'c'],\n",
    "    'c': ['a', 'b']\n",
    "}\n",
    "\n",
    "# generate all permutations of the vertices\n",
    "permutations = list(itertools.permutations(graph.keys()))\n",
    "\n",
    "# print the permutations\n",
    "for perm in permutations:\n",
    "    print(perm)\n",
    "\n"
   ]
  },
  {
   "attachments": {},
   "cell_type": "markdown",
   "metadata": {},
   "source": [
    "Above shows all of the different permutations of the graph we talked about previously. As you can see, a simple few lines of code can easily print out all of the values that we need. This brings me into my next topic, which is the benefit of the libraries we can use to help describe and possibly in the future, solve the graph isomorphism problem."
   ]
  },
  {
   "attachments": {},
   "cell_type": "markdown",
   "metadata": {},
   "source": [
    "<h2><b>Useful Python Libraries for graph theory</b></h2>\n",
    "There are plenty of useful libraries that python offers to help deal with graphs and all the workings that come along with them. You have already seen me use the libraries I hope to speak about. This just shows how useful they can be and the benefits that come along with them.  <br>\n",
    "<h3><b>NetworkX</b></h3>\n",
    "NetworkX is a Python library for creating, manipulating and analyzing graphs. It provides a wide range of functions for building and dealing with graphs along with visualizing graph data. <br>It's ability to create graphs makes it very easy for the user because of the easy-to-use interface which supports various graph types.<br>NetworkX has a wide range of functions for maniupulating graphs including the ablility to add or remove nodes or edges.<br>\n",
    "This libraries' ability to create clear and precise visual representations of graphs is also a great help. \n",
    "\n",
    "\n",
    "<h3><b>MatPlotLib</b></h3>\n",
    "The Matplotlib library is a great tool for creating high quality graphs and visualizations in Python. With the easy to use matplotlib library, you can create the most basic or complex graphs with just a few lines of code. <br>\n",
    "The customizability of this library is one of the great features, where you can customize almost every aspect of your graph. This can range from the colors, fonts, labels, axes and much more. This library is designed to create publication-quality graphs, where they can be publicated in scientific journals and other professional settings.\n",
    "<h3><b>NumPy</b></h3>\n",
    "NumPy is an essential package for scientific computing in Python. This library provides support for large, multidimensional arrays and matrices. Along with a large collection of high level mathematical functions to work with these arrays. <br>\n",
    "NumPy is very efficient with it's handling of large datasets. This library is optimized for numerical operations which makes dealing with larger graphs significantly faster.<br>\n",
    "It makes it easy to manipulate graphs and the corresponding data. It can easily calculate the degree of each node, the shortest path between them or the adjacency matrix.<br>\n",
    "NumPy also supports vectorized operations. This means that it can be used to apply the same operations to more than one element of the array at the same time. Making the overall operation much faster.\n",
    "\n",
    "<h3><b>IterTools</b></h3>\n",
    "Itertools is a python library that is used to iterate over data structures that can be used in a for-loop. These data structures are known as iterables. It provides a few powerful functions to use when working with combinations and permutations of elements of a graph like it;s nodes or edges. <br>\n",
    "It can quickly give you all of the permutations within a graph depending on the size of the graph, which can be very useful when determining whether two graphs are isomorphic. <br>\n",
    "It can also be used to generate different subsets of the graph.<br>\n",
    "\n"
   ]
  },
  {
   "attachments": {},
   "cell_type": "markdown",
   "metadata": {},
   "source": [
    "***\n",
    "All of the libraries I mentioned above go hand-in-hand with eachother to help us work and deal with graphs. These libraries will most likely have a huge role to play when trying to figure out the graph isomorphism problem. You can see above how well they have helped me explain, create and draw graphs so far, however I have barely scraped the surface of what these seperate libraries are capable of.\n"
   ]
  },
  {
   "attachments": {},
   "cell_type": "markdown",
   "metadata": {},
   "source": [
    "<h2><b>Algorithms to determine if two graphs are isomorphic</b></h2>\n",
    "<h3><b>Naive Algorithm</b></h3>\n",
    "This is the most basic way to figure out if two graphs are isomorphic. With this algorithm, you need to check all of the possible mappings between the nodes and edges of the graph. The time complexity for this type of algorithm is O(n!), which makes it very impractical for larger graphs.\n",
    "<h3><b>Weisfeiler-Lehman Algorithm</b></h3>\n",
    "<h3><b>Nauty Algorithm</b></h3>\n",
    "<h3><b>VF2 Algorithm</b></h3>"
   ]
  }
 ],
 "metadata": {
  "kernelspec": {
   "display_name": "Python 3",
   "language": "python",
   "name": "python3"
  },
  "language_info": {
   "codemirror_mode": {
    "name": "ipython",
    "version": 3
   },
   "file_extension": ".py",
   "mimetype": "text/x-python",
   "name": "python",
   "nbconvert_exporter": "python",
   "pygments_lexer": "ipython3",
   "version": "3.9.1"
  },
  "orig_nbformat": 4,
  "vscode": {
   "interpreter": {
    "hash": "5e6e5d4fd3a54b38ed851e4f76fbe6fc723b4ac196b687cee00435a1c00a07ee"
   }
  }
 },
 "nbformat": 4,
 "nbformat_minor": 2
}

{
 "cells": [
  {
   "attachments": {},
   "cell_type": "markdown",
   "metadata": {},
   "source": [
    "##\n",
    " Graph Isomorphism Problem\n",
    " --\n",
    " <hr>"
   ]
  },
  {
   "attachments": {},
   "cell_type": "markdown",
   "metadata": {},
   "source": [
    "<h2>Introduction</h2>\n",
    "<b>Graph Isomorphism</b> is when two graphs are structurally identical. This is determined if the two graphs have a one-to-one correspondence (bijection) between the vertices of the two graphs so that one graph can be mapped to the edges of the other graph so that the adjacency relationships are preserved. <br><br>\n",
    "<b>The Graph Isomorphism Problem</b> is the computational problem of determining whether two finite graphs are isomorphic within polynomial time.<br><br>\n",
    "<b>Polynomial Time</b> refers to the amount of time it takes to complete a computational problem or algorithm based on the size of the problem. When an algorithm runs in Polynomial Time, it means that the time it takes to solve the problem grows as a polynomial function of the input size.\n",
    "<br><br>\n",
    "\n",
    "\n",
    "You may ask yourself why is the graph isomorphism problem important? It has a lot of applications in real life once you wrap your head around it. It can be used in practical applications for fields like chemistry, physics and computer science. It can also be used in cryptography and the design of algorithms. We will talk more on this later.\n",
    "\n",
    "\n",
    "This is a classical algorithmic problem to detemine whether two graphs are actually the same graph in disguise because theres a one-to-one correspondence between their vertices (nodes) and edges."
   ]
  },
  {
   "attachments": {},
   "cell_type": "markdown",
   "metadata": {},
   "source": [
    "<h2>Example of Isomorphism</h2>\n",
    "For example, the two graphs (graph A and graph B) below are known as isomorphic. This is because the vertices (nodes) and edges are exactly the same. The vertices of the graph are where the graph connects together or branches out, in this example, graph A's vertex (node) is where the values 2 and 3 meet at the top of the graph at the value 1. The edges are basically the parts that branch out from the vertices or other values such as the branch between 1 and 2 or 2 and 4.\n",
    "In this example, graph C is also isomorphic with graph A and B. Even though the structure of the graph looks different, the nodes and edges of the graph are still identical.\n",
    "\n",
    "\n",
    "                A           B                        C   \n",
    "                1           2                   5 -- 6 -- 7\n",
    "               / \\         / \\                  |         |\n",
    "              2   3       3   1                 8         9\n",
    "             /     \\     /     \\\n",
    "            4       5   5       4\n"
   ]
  },
  {
   "attachments": {},
   "cell_type": "markdown",
   "metadata": {},
   "source": [
    "Here is an example of two graphs that looks a bit more complicated: <br><br>\n",
    "![Alt text](Pictures/0xoLY.jpg)"
   ]
  },
  {
   "attachments": {},
   "cell_type": "markdown",
   "metadata": {},
   "source": [
    "Can you determine whether these two graphs are isomorphic? Even though the graphical arrangement of the vertices and edges make them look different, they are actually the same graph. To prove this, we need to find a bijective function between the verticies of the two graphs that preserves the edges.\n",
    "\n",
    "Here, the vertices are labelled v1 --> v5. <br>\n",
    "We can show the bijections for each graph below: <br>\n",
    "Graph G: nodes -> (v1,v2,v3,v4,v5) <br>\n",
    "         edges -> [(v1,v2), (v2,v3), (v3,v4), (v4,v5), (v5,v1)]\n",
    "         <br>\n",
    "Graph G': nodes -> (v1',v2',v3',v4',v5') <br>\n",
    "         edges -> [(v1',v2'), (v2',v3'), (v3',v4'), (v4',v5'), (v5',v1')]\n",
    "<br>\n",
    "You can see above that the graphs have the same bijections meaning graph G can be manipulated to become graph G'. <br>\n",
    "This shows that the graphs are <b>Isomorphic</b> <br>\n",
    "I will also prove this using python : <br>"
   ]
  },
  {
   "cell_type": "code",
   "execution_count": null,
   "metadata": {},
   "outputs": [],
   "source": [
    "%pip install networkx"
   ]
  },
  {
   "cell_type": "code",
   "execution_count": 2,
   "metadata": {},
   "outputs": [
    {
     "name": "stdout",
     "output_type": "stream",
     "text": [
      "The pentagon graph and the star graph are isomorphic.\n"
     ]
    }
   ],
   "source": [
    "import networkx as nx;\n",
    "# Create the pentagon graph\n",
    "pentagon = nx.Graph()\n",
    "pentagon.add_nodes_from([1, 2, 3, 4, 5])\n",
    "pentagon.add_edges_from([(1, 2), (2, 3), (3, 4), (4, 5), (5, 1)])\n",
    "\n",
    "# Create the star graph\n",
    "star = nx.Graph()\n",
    "star.add_nodes_from([1, 2, 3, 4, 5])\n",
    "star.add_edges_from([(1, 2), (2, 3), (3, 4), (4, 5), (5, 1)])\n",
    "\n",
    "# Check if the two graphs are isomorphic\n",
    "if nx.is_isomorphic(pentagon, star):\n",
    "    print(\"The pentagon graph and the star graph are isomorphic.\")\n",
    "else:\n",
    "    print(\"The pentagon graph and the star graph are not isomorphic.\")"
   ]
  },
  {
   "attachments": {},
   "cell_type": "markdown",
   "metadata": {},
   "source": [
    "You can use the above code to determine if two graphs are isomorphic once you can tell they have number of nodes and edges. However, the problem is that as the graphs begin to get bigger, the algorithm takes a lot more time to run after each addition of a node or new edge. The time complexity is not quite exponential, but it is a lot higher than polynomial time. Since this graph is so small, the time complexity of this algorithm is negligible."
   ]
  },
  {
   "attachments": {},
   "cell_type": "markdown",
   "metadata": {},
   "source": [
    "<h2> Sets </h2>\n",
    "One way of describing the structure and layout of a graph is to use sets. A set can show the nodes within a graph.\n",
    "For example, graph A can be described as follows: <br>\n",
    "I = {a,b,c} ---> This is showing each node.\n",
    "I = ({a,b}, {b,c}) ----> This is showing the edges between each node. <br>\n",
    "\n",
    "        I\n",
    "        b\n",
    "       / \\\n",
    "      a   c"
   ]
  },
  {
   "cell_type": "code",
   "execution_count": null,
   "metadata": {},
   "outputs": [],
   "source": []
  }
 ],
 "metadata": {
  "kernelspec": {
   "display_name": "Python 3",
   "language": "python",
   "name": "python3"
  },
  "language_info": {
   "codemirror_mode": {
    "name": "ipython",
    "version": 3
   },
   "file_extension": ".py",
   "mimetype": "text/x-python",
   "name": "python",
   "nbconvert_exporter": "python",
   "pygments_lexer": "ipython3",
   "version": "3.9.1"
  },
  "orig_nbformat": 4,
  "vscode": {
   "interpreter": {
    "hash": "5e6e5d4fd3a54b38ed851e4f76fbe6fc723b4ac196b687cee00435a1c00a07ee"
   }
  }
 },
 "nbformat": 4,
 "nbformat_minor": 2
}

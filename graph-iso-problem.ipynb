{
 "cells": [
  {
   "attachments": {},
   "cell_type": "markdown",
   "metadata": {},
   "source": [
    "##\n",
    " Graph Isomorphism Problem\n",
    " --"
   ]
  },
  {
   "attachments": {},
   "cell_type": "markdown",
   "metadata": {},
   "source": [
    "The Graph Isomorphism Problem is the computaitional problem of determining whether two finite graphs are isomorphic, meaning they are congruent or identical."
   ]
  }
 ],
 "metadata": {
  "kernelspec": {
   "display_name": "Python 3",
   "language": "python",
   "name": "python3"
  },
  "language_info": {
   "name": "python",
   "version": "3.9.1 (tags/v3.9.1:1e5d33e, Dec  7 2020, 17:08:21) [MSC v.1927 64 bit (AMD64)]"
  },
  "orig_nbformat": 4,
  "vscode": {
   "interpreter": {
    "hash": "5e6e5d4fd3a54b38ed851e4f76fbe6fc723b4ac196b687cee00435a1c00a07ee"
   }
  }
 },
 "nbformat": 4,
 "nbformat_minor": 2
}

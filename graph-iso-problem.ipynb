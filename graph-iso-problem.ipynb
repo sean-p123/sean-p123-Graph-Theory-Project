{
 "cells": [
  {
   "attachments": {},
   "cell_type": "markdown",
   "metadata": {},
   "source": [
    "##\n",
    " Graph Isomorphism Problem\n",
    " --\n",
    " <hr>"
   ]
  },
  {
   "attachments": {},
   "cell_type": "markdown",
   "metadata": {},
   "source": [
    "<h2>Introduction</h2>\n",
    "<b>Graph Isomorphism</b> is when two graphs are structurally identical. This is determined if the two graphs have a one-to-one correspondence (bijection) between the vertices of the two graphs so that one graph can be mapped to the edges of the other graph so that the adjacency relationships are preserved. <br><br>\n",
    "<b>The Graph Isomorphism Problem</b> is the computational problem of determining whether two finite graphs are isomorphic within polynomial time.<br><br>\n",
    "You may ask yourself why is the graph isomorphism problem important? It has a lot of applications in real life once you wrap your head around it. It can be used in practical applications for fields like chemistry, physics and computer science. It can also be used in cryptography and the design of algorithms. We will talk more on this later.\n",
    "\n",
    "\n",
    "This is a classical algorithmic problem to detemine whether two graphs are actually the same graph in disguise because theres a one-to-one correspondence between their vertices (nodes) and edges."
   ]
  },
  {
   "attachments": {},
   "cell_type": "markdown",
   "metadata": {},
   "source": [
    "<h2>Example of Isomorphism</h2>\n",
    "For example, the two graphs (graph A and graph B) below are known as isomorphic. This is because the vertices (nodes) and edges are exactly the same. The vertices of the graph are where the graph connects together or branches out, in this example, graph A's vertex (node) is where the values 2 and 3 meet at the top of the graph at the value 1. The edges are basically the parts that branch out from the vertices or other values such as the branch between 1 and 2 or 2 and 4.\n",
    "In this example, graph C is also isomorphic with graph A and B. Even though the structure of the graph looks different, the nodes and edges of the graph are still identical.\n",
    "\n",
    "\n",
    "                A           B                        C   \n",
    "                1           2                   5 -- 6 -- 7\n",
    "               / \\         / \\                  |         |\n",
    "              2   3       3   1                 8         9\n",
    "             /     \\     /     \\\n",
    "            4       5   5       4\n"
   ]
  },
  {
   "attachments": {},
   "cell_type": "markdown",
   "metadata": {},
   "source": [
    "Here is an example of two isomorphic graphs that looks a bit more complicated:\n",
    "![Alt text](Pictures/0xoLY.jpg)"
   ]
  },
  {
   "attachments": {},
   "cell_type": "markdown",
   "metadata": {},
   "source": [
    "<h2> Sets </h2>\n",
    "One way of describing the structure and layout of a graph is to use sets. A set can show the nodes within a graph.\n",
    "For example, graph A can be described as follows: <br>\n",
    "I = {a,b,c} ---> This is showing each node.\n",
    "I = ({a,b}, {b,c}) ----> This is showing the edges between each node. <br>\n",
    "\n",
    "        I\n",
    "        b\n",
    "       / \\\n",
    "      a   c"
   ]
  },
  {
   "cell_type": "code",
   "execution_count": null,
   "metadata": {},
   "outputs": [],
   "source": []
  }
 ],
 "metadata": {
  "kernelspec": {
   "display_name": "Python 3",
   "language": "python",
   "name": "python3"
  },
  "language_info": {
   "codemirror_mode": {
    "name": "ipython",
    "version": 3
   },
   "file_extension": ".py",
   "mimetype": "text/x-python",
   "name": "python",
   "nbconvert_exporter": "python",
   "pygments_lexer": "ipython3",
   "version": "3.9.1"
  },
  "orig_nbformat": 4,
  "vscode": {
   "interpreter": {
    "hash": "5e6e5d4fd3a54b38ed851e4f76fbe6fc723b4ac196b687cee00435a1c00a07ee"
   }
  }
 },
 "nbformat": 4,
 "nbformat_minor": 2
}
